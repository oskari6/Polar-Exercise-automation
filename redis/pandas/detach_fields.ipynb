{
 "cells": [
  {
   "cell_type": "code",
   "execution_count": 2,
   "metadata": {},
   "outputs": [],
   "source": [
    "import pandas as pd\n",
    "\n",
    "file=\"2024_eid.csv\"\n",
    "df=pd.read_csv(file)\n",
    "filtered_df=df[['session_id', 'shoes', 'RPE', 'Notes']].dropna(subset=['shoes','RPE','Notes'], how='all')\n",
    "\n",
    "filtered_csv_path=\"filetered2024.csv\"\n",
    "filtered_df.to_csv(filtered_csv_path, index=False)\n",
    "\n",
    "df_modified=df.drop(columns=['shoes', 'RPE', 'Notes'])\n",
    "\n",
    "modified = \"modified2024.csv\"\n",
    "df_modified.to_csv(modified, index=False)\n"
   ]
  },
  {
   "cell_type": "code",
   "execution_count": 3,
   "metadata": {},
   "outputs": [],
   "source": [
    "import pandas as pd\n",
    "file_path = \"modified2023.csv\"\n",
    "df = pd.read_csv(file_path)\n",
    "df_modified = df[['session_id', 'date', 'duration', 'distance'] + [col for col in df.columns if col not in ['session_id', 'date', 'duration', 'distance']]]\n",
    "\n",
    "modified = \"try1.csv\"\n",
    "df_modified.to_csv(modified, index=False)\n"
   ]
  },
  {
   "cell_type": "code",
   "execution_count": 2,
   "metadata": {},
   "outputs": [],
   "source": [
    "import pandas as pd\n",
    "file = \"modified2024.csv\"\n",
    "df = pd.read_csv(file)\n",
    "df['date'] = df['date'].str.replace('2023-', '2024-', regex=False)\n",
    "modified_csv_path = \"try3.csv\"\n",
    "df.to_csv(modified_csv_path, index=False)"
   ]
  },
  {
   "cell_type": "code",
   "execution_count": 4,
   "metadata": {},
   "outputs": [],
   "source": [
    "import pandas as pd\n",
    "file = \"try1.csv\"\n",
    "df = pd.read_csv(file)\n",
    "df['temperature'] = df['temperature'].str.replace('tm', '', regex=False)\n",
    "df['hr_avg'] = df['hr_avg'].str.replace('-', '', regex=False)\n",
    "df['hr_max'] = df['hr_max'].str.replace('-', '', regex=False)\n",
    "modified_csv_path = \"try2.csv\"\n",
    "df.to_csv(modified_csv_path, index=False)"
   ]
  },
  {
   "cell_type": "code",
   "execution_count": null,
   "metadata": {},
   "outputs": [],
   "source": [
    "import pandas as pd\n",
    "file = \"try2.csv\"\n",
    "df = pd.read_csv(file)\n",
    "df['timestamp'] = df['date'] + 'T00:00:00'\n",
    "df_modified = df[['session_id', 'timestamp', 'date', 'duration', 'distance'] + [col for col in df.columns if col not in ['session_id', 'timestamp', 'date', 'duration', 'distance']]]\n",
    "modified_csv_path = \"try3.csv\"\n",
    "df_modified.to_csv(modified_csv_path, index=False)\n"
   ]
  },
  {
   "cell_type": "code",
   "execution_count": null,
   "metadata": {},
   "outputs": [],
   "source": [
    "import pandas as pd\n",
    "file = \"try3.csv\"\n",
    "df = pd.read_csv(file)\n",
    "df['timestamp'] = df['date'] + 'T00:00:00'\n",
    "df_modified = df[['session_id', 'timestamp', 'date', 'duration', 'distance'] + [col for col in df.columns if col not in ['session_id', 'timestamp', 'date', 'duration', 'distance']]]\n",
    "modified_csv_path = \"try3.csv\"\n",
    "df_modified.to_csv(modified_csv_path, index=False)\n"
   ]
  },
  {
   "cell_type": "code",
   "execution_count": 4,
   "metadata": {},
   "outputs": [],
   "source": [
    "import pandas as pd\n",
    "file = \"try3.csv\"\n",
    "df = pd.read_csv(file)\n",
    "df['duration'] = df['duration'].astype(str).str.replace(r'^0(?=\\d:)', '', regex=True)\n",
    "df['hr_avg'] = pd.to_numeric(df['hr_avg'], errors='coerce').fillna(df['hr_avg']).astype('Int64')\n",
    "df['hr_max'] = pd.to_numeric(df['hr_max'], errors='coerce').fillna(df['hr_max']).astype('Int64')\n",
    "df['temperature'] = pd.to_numeric(df['temperature'], errors='coerce').astype(float).round(1)\n",
    "\n",
    "modified_csv_path = \"try4.csv\"\n",
    "df.to_csv(modified_csv_path, index=False)\n"
   ]
  }
 ],
 "metadata": {
  "kernelspec": {
   "display_name": "pandas",
   "language": "python",
   "name": "python3"
  },
  "language_info": {
   "codemirror_mode": {
    "name": "ipython",
    "version": 3
   },
   "file_extension": ".py",
   "mimetype": "text/x-python",
   "name": "python",
   "nbconvert_exporter": "python",
   "pygments_lexer": "ipython3",
   "version": "3.12.3"
  }
 },
 "nbformat": 4,
 "nbformat_minor": 2
}
