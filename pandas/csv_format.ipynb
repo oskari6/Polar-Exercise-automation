{
 "cells": [
  {
   "cell_type": "code",
   "execution_count": 7,
   "metadata": {},
   "outputs": [
    {
     "name": "stdout",
     "output_type": "stream",
     "text": [
      "    date duration  distance Pace avg hr_avg hr_max shoes temp  RPE  \\\n",
      "0  1-Jan  0:57:24     10.02    05:44      -      -  salo  -16  2.0   \n",
      "1  2-Jan  0:35:29      8.40    03:30    158    175     a   tm  7.0   \n",
      "2  3-Jan  0:13:48      4.00    03:30    166    175     a   tm  9.0   \n",
      "3  4-Jan  0:52:00     12.00    04:15    157    167     a   tm  7.0   \n",
      "4  5-Jan  1:04:14     10.00    06:30    124    130     s   tm  2.0   \n",
      "\n",
      "                                               Notes  \n",
      "0                                           easy run  \n",
      "1       track,8x1k(3,30), 1min recovery, 400m warmup  \n",
      "2      fast run 3:30 for 4k, couldnt hang, too fast.  \n",
      "3  fartlek 2k fast(4:00), 2k slow(4:30), cooldown...  \n",
      "4                                 easy run felt easy  \n"
     ]
    }
   ],
   "source": [
    "import pandas as pd\n",
    "\n",
    "with open(\"2024.csv\",\"r\",encoding=\"utf-8\") as file:\n",
    "    lines = file.readlines()\n",
    "\n",
    "cleaned_lines = []\n",
    "for line in lines:\n",
    "    parts = line.strip().split(\",\")\n",
    "    while len(parts) > 10 and parts[-1] == \"\":\n",
    "        parts.pop()\n",
    "\n",
    "    cleaned_lines.append(\",\".join(parts))\n",
    "\n",
    "with open(\"2024.csv\",\"w\",encoding=\"utf-8\") as file:\n",
    "    file.write(\"\\n\".join(cleaned_lines))\n",
    "\n",
    "df = pd.read_csv(\"2024.csv\", header=0)\n",
    "\n",
    "df = df.dropna(how='all')\n",
    "\n",
    "df.to_csv(\"new1.csv\", index=False)\n",
    "\n",
    "print(df.head())\n"
   ]
  },
  {
   "cell_type": "code",
   "execution_count": 8,
   "metadata": {},
   "outputs": [],
   "source": [
    "import pandas as pd\n",
    "\n",
    "df = pd.read_csv(\"new1.csv\", header=0)\n",
    "df = df.drop(columns=[\"weight\"], errors=\"ignore\")\n",
    "df.to_csv(\"new2.csv\", index=False)\n"
   ]
  },
  {
   "cell_type": "code",
   "execution_count": 9,
   "metadata": {},
   "outputs": [],
   "source": [
    "from datetime import datetime\n",
    "\n",
    "df = pd.read_csv(\"new2.csv\", header=0)\n",
    "\n",
    "target_year = 2023\n",
    "\n",
    "def convert_time(date_str):\n",
    "    try:\n",
    "        return datetime.strptime(f\"{date_str}-{target_year}\", \"%d-%b-%Y\").strftime(\"%Y-%m-%d\")\n",
    "    except ValueError:\n",
    "        return date_str\n",
    "    \n",
    "df[\"date\"] = df[\"date\"].astype(str).apply(convert_time)\n",
    "\n",
    "df.to_csv(\"new3.csv\", index=False)\n"
   ]
  },
  {
   "cell_type": "code",
   "execution_count": 10,
   "metadata": {},
   "outputs": [],
   "source": [
    "df = pd.read_csv(\"new3.csv\", header=0)\n",
    "df = df.drop(columns=[\"Pace avg\"], errors=\"ignore\")\n",
    "df.to_csv(\"new4.csv\", index=False)"
   ]
  },
  {
   "cell_type": "code",
   "execution_count": 5,
   "metadata": {},
   "outputs": [],
   "source": [
    "df = pd.read_csv(\"cleaned_file4.csv\", header=0)\n",
    "\n",
    "def convert_duration(value):\n",
    "    try:\n",
    "        value_str = str(value)\n",
    "        minutes, seconds = value_str.split(\".\")\n",
    "        minutes = int(minutes)\n",
    "        seconds = int(seconds)\n",
    "\n",
    "        hours = minutes // 60\n",
    "        minutes = minutes % 60\n",
    "\n",
    "        return f\"{hours:02}:{minutes:02}:{seconds:02}\"\n",
    "    except ValueError:\n",
    "        return value\n",
    "    \n",
    "df[\"duration\"] = df[\"duration\"].astype(str).apply(convert_duration)\n",
    "\n",
    "df.to_csv(\"cleaned5.csv\", index=False)"
   ]
  },
  {
   "cell_type": "code",
   "execution_count": 13,
   "metadata": {},
   "outputs": [],
   "source": [
    "\n",
    "df = pd.read_csv(\"2024.csv\", header=0)\n",
    "df.insert(0, \"session_id\", range(244, 244+len(df)))\n",
    "df.to_csv(\"2024_id.csv\", index=False)\n"
   ]
  },
  {
   "cell_type": "code",
   "execution_count": 15,
   "metadata": {},
   "outputs": [],
   "source": [
    "import random\n",
    "import string\n",
    "\n",
    "df = pd.read_csv(\"2024_id.csv\", header=0)\n",
    "\n",
    "def generate_exercise_id():\n",
    "    return ''.join(random.choices(string.ascii_letters + string.digits, k=8))\n",
    "\n",
    "df[\"exercise_id\"] = [generate_exercise_id() for _ in range(len(df))]\n",
    "\n",
    "df.to_csv(\"2024_eid.csv\", index=False)"
   ]
  }
 ],
 "metadata": {
  "kernelspec": {
   "display_name": "pandas",
   "language": "python",
   "name": "python3"
  },
  "language_info": {
   "codemirror_mode": {
    "name": "ipython",
    "version": 3
   },
   "file_extension": ".py",
   "mimetype": "text/x-python",
   "name": "python",
   "nbconvert_exporter": "python",
   "pygments_lexer": "ipython3",
   "version": "3.12.3"
  }
 },
 "nbformat": 4,
 "nbformat_minor": 2
}
